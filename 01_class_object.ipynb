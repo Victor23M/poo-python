{
 "cells": [
  {
   "cell_type": "code",
   "execution_count": 1,
   "metadata": {},
   "outputs": [],
   "source": [
    "# A classe é a estrutura básica do paradigma de orientação a objetos, que representa o tipo do\n",
    "# objeto, um modelo a partir do qual os objetos serão criados. Uma classe é apenas um molde. Uma\n",
    "# especificação que define o que um objeto desse tipo deverá ter como atributo e como ele deve se\n",
    "# comportar.\n",
    "\n",
    "# A classe é uma espécie de template que define a natureza de um futuro objeto. A partir da classe,\n",
    "# podem ser construídas instâncias. Uma instância é um objeto específico, o qual é criado a partir\n",
    "# de uma classe.\n",
    "\n",
    "# Objetos representam entidades, as quais têm suas qualidades (atributos) e ações (métodos) que estas\n",
    "# podem realizar.\n",
    "\n",
    "# Objetos definidos pelo usuário em Python são criados a partir de instâncias de classes criadas usando\n",
    "# a palavra class. Por convenção, o nome de uma classe começa com letra maiúscula. "
   ]
  },
  {
   "cell_type": "code",
   "execution_count": 2,
   "metadata": {},
   "outputs": [
    {
     "name": "stdout",
     "output_type": "stream",
     "text": [
      "Contrutor chamado para criar um objeto desta classe.\n",
      "Foi criado o livro O Monge e o Executivo e ISBN 9988888\n"
     ]
    }
   ],
   "source": [
    "# Criando uma classe chamada Livro\n",
    "class Livro():\n",
    "\n",
    "    # Este método vai inicializar cada objeto criado a partir dessa classe\n",
    "    # O nome deste método é __init__\n",
    "    # (self) é uma referência a cada atributo de um objeto criado a partir desta classe\n",
    "    def __init__(self):\n",
    "\n",
    "        # Atributos de cada objeto criado a partir desta classe.\n",
    "        # O self indica que estes são atributos dos objetos\n",
    "        self.titulo = 'O Monge e o Executivo'\n",
    "        self.isbn = 9988888\n",
    "        print('Contrutor chamado para criar um objeto desta classe.')\n",
    "\n",
    "    # Métodos são funções, as quais receberm como parâmetro os atributos do objeto criado\n",
    "    def imprime(self):\n",
    "        print(\"Foi criado o livro %s e ISBN %d\" %(self.titulo, self.isbn))\n",
    "    \n",
    "\n",
    "# Criando a instância da classe Livro\n",
    "Livro1 = Livro()\n",
    "\n",
    "# Tipo do Objeto Livro1\n",
    "type(Livro1)\n",
    "\n",
    "# Atributo do Objeto Livro1\n",
    "Livro1.titulo\n",
    "\n",
    "# Método do Objeto Livro1\n",
    "Livro1.imprime()    "
   ]
  },
  {
   "cell_type": "code",
   "execution_count": 2,
   "metadata": {},
   "outputs": [
    {
     "name": "stdout",
     "output_type": "stream",
     "text": [
      "Construtor chamado para criar um objeto desta classe\n",
      "Este é o livro A Menina que Roubava Livros e ISBN 7786611\n"
     ]
    }
   ],
   "source": [
    "# Criando a classe Livro com parâmetros no método constutor\n",
    "\n",
    "class Livro():\n",
    "    def __init__(self, titulo, isbn):\n",
    "        self.titulo = titulo\n",
    "        self.isbn = isbn\n",
    "        print('Construtor chamado para criar um objeto desta classe')\n",
    "    \n",
    "    def imprime(self, titulo, isbn):\n",
    "        print(f'Este é o livro {titulo} e ISBN {isbn}')\n",
    "    \n",
    "\n",
    "# Criando o objeto Livro2 que é uma instância da classe Livro\n",
    "Livro2 = Livro('A Menina que Roubava Livros', 7786611)\n",
    "\n",
    "Livro2.titulo\n",
    "\n",
    "# Método do Objeto Livro2\n",
    "Livro2.imprime('A Menina que Roubava Livros', 7786611)\n",
    "\n"
   ]
  },
  {
   "cell_type": "code",
   "execution_count": 3,
   "metadata": {},
   "outputs": [
    {
     "name": "stdout",
     "output_type": "stream",
     "text": [
      "Construtor chamado para criar um objeto desta classe\n",
      "Construtor chamado para criar um objeto desta classe\n"
     ]
    },
    {
     "data": {
      "text/plain": [
       "'Rottweiller'"
      ]
     },
     "execution_count": 3,
     "metadata": {},
     "output_type": "execute_result"
    }
   ],
   "source": [
    "# Criando a classe cachorro\n",
    "class Cachorro():\n",
    "    def __init__(self, raca):\n",
    "        self.raca = raca\n",
    "        print('Construtor chamado para criar um objeto desta classe')\n",
    "\n",
    "# Criando um objeto a partir da classe cachorro\n",
    "Rex = Cachorro(raca = 'labrador')\n",
    "\n",
    "\n",
    "# Criando um objeto a partir da classe cachorro\n",
    "Golias = Cachorro(raca = 'Rottweiller')\n",
    "\n",
    "# Atributo da classe cachorro, utilizado para criar o objeto\n",
    "Rex.raca\n",
    "\n",
    "# Atributo da classe cachorro, utilizado para criar o objeto\n",
    "Golias.raca\n"
   ]
  },
  {
   "cell_type": "code",
   "execution_count": null,
   "metadata": {},
   "outputs": [],
   "source": []
  }
 ],
 "metadata": {
  "kernelspec": {
   "display_name": "Python 3.10.2 64-bit",
   "language": "python",
   "name": "python3"
  },
  "language_info": {
   "codemirror_mode": {
    "name": "ipython",
    "version": 3
   },
   "file_extension": ".py",
   "mimetype": "text/x-python",
   "name": "python",
   "nbconvert_exporter": "python",
   "pygments_lexer": "ipython3",
   "version": "3.10.2"
  },
  "orig_nbformat": 4,
  "vscode": {
   "interpreter": {
    "hash": "369f2c481f4da34e4445cda3fffd2e751bd1c4d706f27375911949ba6bb62e1c"
   }
  }
 },
 "nbformat": 4,
 "nbformat_minor": 2
}

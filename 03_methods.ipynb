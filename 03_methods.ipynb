{
 "cells": [
  {
   "cell_type": "code",
   "execution_count": 1,
   "metadata": {},
   "outputs": [
    {
     "data": {
      "text/plain": [
       "5"
      ]
     },
     "execution_count": 1,
     "metadata": {},
     "output_type": "execute_result"
    }
   ],
   "source": [
    "# Criando uma classe chamada Circulo\n",
    "class Circulo():\n",
    "    \n",
    "    # O valor de pi é constante\n",
    "    pi = 3.14\n",
    "\n",
    "    # Quando um objeto desta classe for criado, este método será executado e o valor default do raio será 5\n",
    "    def __init__(self, raio = 5):\n",
    "        self.raio = raio\n",
    "\n",
    "    # Esse método calcula a área. Self utiliza os atributos deste mesmo objeto\n",
    "    def area(self):\n",
    "        return (self.raio * self.raio) * Circulo.pi\n",
    "\n",
    "    # Método para gerar um novo raio\n",
    "    def setRaio(self, novo_raio):\n",
    "        self.raio = novo_raio\n",
    "\n",
    "    # Método para obter o raio do circulo\n",
    "    def getRaio(self):\n",
    "        return self.raio\n",
    "\n",
    "# Criando o objeto circ. Uma instância de classe Circulo()\n",
    "circ = Circulo()\n",
    "\n",
    "# Executando um método da classe Circulo\n",
    "circ.getRaio()\n"
   ]
  },
  {
   "cell_type": "code",
   "execution_count": 2,
   "metadata": {},
   "outputs": [
    {
     "name": "stdout",
     "output_type": "stream",
     "text": [
      "O raio é:  7\n",
      "A area é igual a:  153.86\n"
     ]
    },
    {
     "data": {
      "text/plain": [
       "3"
      ]
     },
     "execution_count": 2,
     "metadata": {},
     "output_type": "execute_result"
    }
   ],
   "source": [
    "circ1 = Circulo(7)\n",
    "\n",
    "# Executando um método da classe Circulo\n",
    "circ1.getRaio()\n",
    "\n",
    "# Imprimindo o raio\n",
    "print('O raio é: ', circ1.getRaio())\n",
    "\n",
    "# Imprimindo a area\n",
    "print('A area é igual a: ', circ1.area())\n",
    "\n",
    "# Gerando um novo valor para o raio do circulo\n",
    "circ1.setRaio(3)\n",
    "\n",
    "# Imprimindo novo raio\n",
    "circ1.getRaio()\n"
   ]
  },
  {
   "cell_type": "code",
   "execution_count": null,
   "metadata": {},
   "outputs": [],
   "source": []
  }
 ],
 "metadata": {
  "kernelspec": {
   "display_name": "Python 3.10.2 64-bit",
   "language": "python",
   "name": "python3"
  },
  "language_info": {
   "codemirror_mode": {
    "name": "ipython",
    "version": 3
   },
   "file_extension": ".py",
   "mimetype": "text/x-python",
   "name": "python",
   "nbconvert_exporter": "python",
   "pygments_lexer": "ipython3",
   "version": "3.10.2"
  },
  "orig_nbformat": 4,
  "vscode": {
   "interpreter": {
    "hash": "369f2c481f4da34e4445cda3fffd2e751bd1c4d706f27375911949ba6bb62e1c"
   }
  }
 },
 "nbformat": 4,
 "nbformat_minor": 2
}

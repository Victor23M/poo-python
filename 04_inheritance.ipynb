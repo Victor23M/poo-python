{
 "cells": [
  {
   "cell_type": "code",
   "execution_count": 1,
   "metadata": {},
   "outputs": [],
   "source": [
    "# Herança é uma forma de gerar novas classes usando classes que foram definidas previamente.\n",
    "# Estas novas classes formadas são chamadas de classes derivadas ou sub-classes.\n",
    "# A classe que deu origem a sub-classe é chamada de super-classe ou classe base.\n",
    "\n",
    "# Um dos principais benefícios da Herança é a reutilização de código e a redução da\n",
    "# complexidade dos programas.\n",
    "# As classes derivadas estendem as funcionalidades das classes base."
   ]
  },
  {
   "cell_type": "code",
   "execution_count": 2,
   "metadata": {},
   "outputs": [],
   "source": [
    "# Criando a classe Animal - Super-Classe\n",
    "class Animal():\n",
    "    def __init__(self):\n",
    "        print('Animal criado')\n",
    "\n",
    "    def identif(self):\n",
    "        print('Animal')\n",
    "    \n",
    "    def comer(self):\n",
    "        print('Comendo')"
   ]
  },
  {
   "cell_type": "code",
   "execution_count": 3,
   "metadata": {},
   "outputs": [],
   "source": [
    "# Criando a classe Cachorro - Sub-Classe\n",
    "class Cachorro(Animal):\n",
    "    def __init__(self):\n",
    "        Animal.__init__(self)\n",
    "        print('Cachorro criado')\n",
    "    \n",
    "    def identif(self):\n",
    "        print('Cachorro')\n",
    "\n",
    "    def latir(self):\n",
    "        print('Au Au')\n"
   ]
  },
  {
   "cell_type": "code",
   "execution_count": 5,
   "metadata": {},
   "outputs": [
    {
     "name": "stdout",
     "output_type": "stream",
     "text": [
      "Animal criado\n",
      "Cachorro criado\n",
      "Cachorro\n",
      "Comendo\n",
      "Au Au\n"
     ]
    }
   ],
   "source": [
    "# Criando um objeto (Instanciando a classe)\n",
    "rex = Cachorro()\n",
    "\n",
    "# Executando o método da classe Cachorro (sub-classe)\n",
    "rex.identif() # Ele irá puxar da classe cachorro e não da animal, pois a cachorro é a mais específica a ele.\n",
    "\n",
    "# Executando o método da classe Animal (suoer-classe)\n",
    "rex.comer()\n",
    "\n",
    "# Executando o método da classe Cachorro (sub-classe)\n",
    "rex.latir()\n",
    "\n"
   ]
  }
 ],
 "metadata": {
  "kernelspec": {
   "display_name": "Python 3.10.2 64-bit",
   "language": "python",
   "name": "python3"
  },
  "language_info": {
   "codemirror_mode": {
    "name": "ipython",
    "version": 3
   },
   "file_extension": ".py",
   "mimetype": "text/x-python",
   "name": "python",
   "nbconvert_exporter": "python",
   "pygments_lexer": "ipython3",
   "version": "3.10.2"
  },
  "orig_nbformat": 4,
  "vscode": {
   "interpreter": {
    "hash": "369f2c481f4da34e4445cda3fffd2e751bd1c4d706f27375911949ba6bb62e1c"
   }
  }
 },
 "nbformat": 4,
 "nbformat_minor": 2
}

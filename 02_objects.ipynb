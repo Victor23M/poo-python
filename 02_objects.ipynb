{
 "cells": [
  {
   "cell_type": "code",
   "execution_count": 2,
   "metadata": {},
   "outputs": [
    {
     "name": "stdout",
     "output_type": "stream",
     "text": [
      "<class 'int'>\n",
      "<class 'dict'>\n",
      "<class 'list'>\n",
      "<class 'tuple'>\n",
      "<class 'str'>\n"
     ]
    }
   ],
   "source": [
    "# Em Python tudo é objeto!\n",
    "\n",
    "# Criando uma lista\n",
    "lst_num = ['Data', 'Science', 'Academy', 'Nota', 10, 10]\n",
    "\n",
    "# A lista lst_num é um objeto, uma instância da classe Lista em Python\n",
    "type(lst_num)\n",
    "\n",
    "# Por ser uma instância de uma classe maior, é possível usar os métodos inerentes a classe List\n",
    "lst_num.count(10)\n",
    "\n",
    "# Usando a função type para identificar o tipo de cada objeto\n",
    "print(type(10))\n",
    "print(type({}))\n",
    "print(type([]))\n",
    "print(type(()))\n",
    "print(type('a'))"
   ]
  },
  {
   "cell_type": "code",
   "execution_count": 3,
   "metadata": {},
   "outputs": [
    {
     "name": "stdout",
     "output_type": "stream",
     "text": [
      "<class '__main__.Carro'>\n"
     ]
    }
   ],
   "source": [
    "# Criando um novo tipo de objeto chamado Carro\n",
    "class Carro(object):\n",
    "    pass\n",
    "\n",
    "# Instância do Carro\n",
    "palio = Carro()\n",
    "\n",
    "print(type(palio))\n"
   ]
  },
  {
   "cell_type": "code",
   "execution_count": 4,
   "metadata": {},
   "outputs": [
    {
     "data": {
      "text/plain": [
       "9.5"
      ]
     },
     "execution_count": 4,
     "metadata": {},
     "output_type": "execute_result"
    }
   ],
   "source": [
    "# Criando uma classe\n",
    "class Estudantes:\n",
    "    def __init__(self, nome, idade, nota):\n",
    "        self.nome = nome\n",
    "        self.idade = idade\n",
    "        self.nota = nota\n",
    "\n",
    "# Criando um objeto chamado Estudante1 a partir da classe Estudantes\n",
    "Estudante1 = Estudantes('Pele', 12, 9.5)\n",
    "\n",
    "# Atributo da classe Estudantes, utilizado por cada objeto criado a partir dessa classe\n",
    "Estudante1.nome\n",
    "Estudante1.idade\n",
    "Estudante1.nota\n",
    "\n"
   ]
  },
  {
   "cell_type": "code",
   "execution_count": 6,
   "metadata": {},
   "outputs": [
    {
     "name": "stdout",
     "output_type": "stream",
     "text": [
      "O nome do funcionário é Obama e o salário é 20000\n"
     ]
    }
   ],
   "source": [
    "# Criando uma classe\n",
    "class Funcionarios:\n",
    "    def __init__(self, nome, salario):\n",
    "        self.nome = nome\n",
    "        self.salario = salario\n",
    "\n",
    "    def listFunc(self):\n",
    "        print('O nome do funcionário é ' + self.nome + ' e o salário é ' + str(self.salario))\n",
    "\n",
    "# Criando um objeto chamado Estudante1 a partir da classe Estudantes\n",
    "Func1 = Funcionarios('Obama', 20000)\n",
    "\n",
    "# Usando o Método da Classe\n",
    "Func1.listFunc()\n"
   ]
  },
  {
   "cell_type": "code",
   "execution_count": 7,
   "metadata": {},
   "outputs": [
    {
     "name": "stdout",
     "output_type": "stream",
     "text": [
      "***USANDO ATRIBUTOS***\n"
     ]
    },
    {
     "data": {
      "text/plain": [
       "False"
      ]
     },
     "execution_count": 7,
     "metadata": {},
     "output_type": "execute_result"
    }
   ],
   "source": [
    "print('***USANDO ATRIBUTOS***')\n",
    "\n",
    "# Existem funções em Python que permitem manipular atributos de classes\n",
    "\n",
    "# A função hasattr() basicamente checa a existência de um atributo, ela retorna um valor booleado\n",
    "hasattr(Func1, 'nome')\n",
    "\n",
    "hasattr(Func1, 'salario')\n",
    "\n",
    "# A função setattr() checa se há um atributo com esse nome e seta um novo atributo\n",
    "setattr(Func1, 'salario', 45000)\n",
    "\n",
    "hasattr(Func1, 'salario')\n",
    "\n",
    "# A função getattr() basicamente retorna o valor do atributo procurado\n",
    "getattr(Func1, 'salario')\n",
    "\n",
    "# A função delattr() deleta um atributo\n",
    "delattr(Func1, 'salario')\n",
    "\n",
    "hasattr(Func1, 'salario')\n",
    "\n",
    "\n"
   ]
  },
  {
   "cell_type": "code",
   "execution_count": null,
   "metadata": {},
   "outputs": [],
   "source": []
  }
 ],
 "metadata": {
  "kernelspec": {
   "display_name": "Python 3.10.2 64-bit",
   "language": "python",
   "name": "python3"
  },
  "language_info": {
   "codemirror_mode": {
    "name": "ipython",
    "version": 3
   },
   "file_extension": ".py",
   "mimetype": "text/x-python",
   "name": "python",
   "nbconvert_exporter": "python",
   "pygments_lexer": "ipython3",
   "version": "3.10.2"
  },
  "orig_nbformat": 4,
  "vscode": {
   "interpreter": {
    "hash": "369f2c481f4da34e4445cda3fffd2e751bd1c4d706f27375911949ba6bb62e1c"
   }
  }
 },
 "nbformat": 4,
 "nbformat_minor": 2
}
